{
  "nbformat": 4,
  "nbformat_minor": 0,
  "metadata": {
    "colab": {
      "name": "Mar_08_2022.ipynb",
      "provenance": [],
      "collapsed_sections": [],
      "authorship_tag": "ABX9TyNTC6PlDmwnPPE/L/hUqsyU",
      "include_colab_link": true
    },
    "kernelspec": {
      "name": "python3",
      "display_name": "Python 3"
    },
    "language_info": {
      "name": "python"
    }
  },
  "cells": [
    {
      "cell_type": "markdown",
      "metadata": {
        "id": "view-in-github",
        "colab_type": "text"
      },
      "source": [
        "<a href=\"https://colab.research.google.com/github/msayeshasiddikatonny/Consultation_Spring_2022/blob/main/Mar_08_2022.ipynb\" target=\"_parent\"><img src=\"https://colab.research.google.com/assets/colab-badge.svg\" alt=\"Open In Colab\"/></a>"
      ]
    },
    {
      "cell_type": "code",
      "execution_count": null,
      "metadata": {
        "id": "lKs6w-0GvA2_"
      },
      "outputs": [],
      "source": [
        "num = 11\n",
        "st= ''\n",
        "while num>=0 :\n",
        "    ver= num//2\n",
        "    ver_2= num%2\n",
        "    st+= str(ver_2)\n",
        "    num=ver\n",
        "print(st)"
      ]
    },
    {
      "cell_type": "code",
      "source": [
        "s=0\n",
        "count=1\n",
        "#1-10\n",
        "\n",
        "\n",
        "while count<6:\n",
        "  if cond;\n",
        "   s+=count\n",
        "  count+=1\n",
        "\n",
        "\n",
        "print(s)"
      ],
      "metadata": {
        "id": "f6L2esT7yc1J"
      },
      "execution_count": null,
      "outputs": []
    },
    {
      "cell_type": "code",
      "source": [
        "p=1\n",
        "s=0\n",
        "count=1\n",
        "#1-10\n",
        "\n",
        "\n",
        "while count<=10:\n",
        "  p*=count\n",
        "  s+=count\n",
        "  count+=1\n",
        "\n",
        "\n",
        "print(p)"
      ],
      "metadata": {
        "id": "o3qauGdlzVrd"
      },
      "execution_count": null,
      "outputs": []
    },
    {
      "cell_type": "code",
      "source": [
        "p=1\n",
        "s=0\n",
        "count=1\n",
        "#1-10\n",
        "\n",
        "\n",
        "while count<=10:\n",
        "  p*=count\n",
        "  s+=count\n",
        "  count+=1\n",
        "\n",
        "\n",
        "print(p)"
      ],
      "metadata": {
        "id": "o9NVAgAozn4h"
      },
      "execution_count": null,
      "outputs": []
    }
  ]
}