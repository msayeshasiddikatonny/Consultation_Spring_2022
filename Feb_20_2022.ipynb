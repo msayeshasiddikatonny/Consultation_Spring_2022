{
  "nbformat": 4,
  "nbformat_minor": 0,
  "metadata": {
    "colab": {
      "name": "Feb_20_2022.ipynb",
      "provenance": [],
      "collapsed_sections": [],
      "authorship_tag": "ABX9TyMjGPNepUYnNYDS7zYHP9C9",
      "include_colab_link": true
    },
    "kernelspec": {
      "name": "python3",
      "display_name": "Python 3"
    },
    "language_info": {
      "name": "python"
    }
  },
  "cells": [
    {
      "cell_type": "markdown",
      "metadata": {
        "id": "view-in-github",
        "colab_type": "text"
      },
      "source": [
        "<a href=\"https://colab.research.google.com/github/msayeshasiddikatonny/Consultation_Spring_2022/blob/main/Feb_20_2022.ipynb\" target=\"_parent\"><img src=\"https://colab.research.google.com/assets/colab-badge.svg\" alt=\"Open In Colab\"/></a>"
      ]
    },
    {
      "cell_type": "code",
      "execution_count": null,
      "metadata": {
        "colab": {
          "base_uri": "https://localhost:8080/"
        },
        "id": "pM-Oezbv5vF5",
        "outputId": "481ad64c-49f1-4ed2-84ca-773614fba6db"
      },
      "outputs": [
        {
          "output_type": "stream",
          "name": "stdout",
          "text": [
            "(5,2)\n",
            "(5,2)\n",
            "5,2\n",
            "5\n",
            "2\n"
          ]
        }
      ],
      "source": [
        "n=input()\n",
        "print(n)\n",
        "n=n[1:-1]\n",
        "print(n)\n",
        "x,y=n.split(',')\n",
        "print(x)\n",
        "print(y)"
      ]
    }
  ]
}