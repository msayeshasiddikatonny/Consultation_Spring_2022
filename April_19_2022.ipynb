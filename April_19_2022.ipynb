{
  "nbformat": 4,
  "nbformat_minor": 0,
  "metadata": {
    "colab": {
      "name": " April_19_2022.ipynb",
      "provenance": [],
      "collapsed_sections": [],
      "authorship_tag": "ABX9TyOO6UlMBhcOZvo8BJHD+0L3",
      "include_colab_link": true
    },
    "kernelspec": {
      "name": "python3",
      "display_name": "Python 3"
    },
    "language_info": {
      "name": "python"
    }
  },
  "cells": [
    {
      "cell_type": "markdown",
      "metadata": {
        "id": "view-in-github",
        "colab_type": "text"
      },
      "source": [
        "<a href=\"https://colab.research.google.com/github/msayeshasiddikatonny/Consultation_Spring_2022/blob/main/April_19_2022.ipynb\" target=\"_parent\"><img src=\"https://colab.research.google.com/assets/colab-badge.svg\" alt=\"Open In Colab\"/></a>"
      ]
    },
    {
      "cell_type": "code",
      "execution_count": null,
      "metadata": {
        "colab": {
          "base_uri": "https://localhost:8080/"
        },
        "id": "19Bt3_o_czoc",
        "outputId": "fcb53e80-1923-407f-8c89-4bf20d94eee0"
      },
      "outputs": [
        {
          "output_type": "stream",
          "name": "stdout",
          "text": [
            "a=  ayesha\n",
            "x=  [23]\n",
            "y=  sakib\n"
          ]
        }
      ],
      "source": [
        "def an (x,y):\n",
        "  a=\"ayesha\"\n",
        "  print('a= ',a)\n",
        "  print('x= ',x)\n",
        "  print('y= ',y)\n",
        "\n",
        "\n",
        "\n",
        "a=[23]\n",
        "b=\"sakib\"\n",
        "an(a,b)"
      ]
    },
    {
      "cell_type": "code",
      "source": [
        "n=5\n",
        "\n",
        "for row in range(1,n+1):\n",
        "    for sp in range(1,n-row+1):\n",
        "      print(' ',end=' ')\n",
        "    for col in range(1,row+1):\n",
        "      print(col,end=' ')\n",
        "    for col_rev in range(row-1,0,-1):\n",
        "      print(col_rev,end=' ')\n",
        "    print()\n",
        "    \n"
      ],
      "metadata": {
        "colab": {
          "base_uri": "https://localhost:8080/"
        },
        "id": "QW0qEvDKNG0w",
        "outputId": "0c6d8516-2462-42d0-e4b3-71026a40974b"
      },
      "execution_count": null,
      "outputs": [
        {
          "output_type": "stream",
          "name": "stdout",
          "text": [
            "        1 \n",
            "      1 2 1 \n",
            "    1 2 3 2 1 \n",
            "  1 2 3 4 3 2 1 \n",
            "1 2 3 4 5 4 3 2 1 \n"
          ]
        }
      ]
    },
    {
      "cell_type": "code",
      "source": [
        "def pali(row):\n",
        "  for col in range(1,row+1):\n",
        "        print(col,end=' ')\n",
        "  for col_rev in range(row-1,0,-1):\n",
        "        print(col_rev,end=' ')\n",
        "\n",
        "\n",
        "n=5\n",
        "\n",
        "for row in range(1,n+1):\n",
        "    for sp in range(1,n-row+1):\n",
        "      print(' ',end=' ')\n",
        "      '''\n",
        "    for col in range(1,row+1):\n",
        "      print(col,end=' ')\n",
        "    for col_rev in range(row-1,0,-1):\n",
        "      print(col_rev,end=' ')\n",
        "      '''\n",
        "    pali(row)\n",
        "    print()"
      ],
      "metadata": {
        "colab": {
          "base_uri": "https://localhost:8080/"
        },
        "id": "oEdWgfk6PwGQ",
        "outputId": "6ffcb334-5fee-432b-d103-7350d30f5f2f"
      },
      "execution_count": null,
      "outputs": [
        {
          "output_type": "stream",
          "name": "stdout",
          "text": [
            "        1 \n",
            "      1 2 1 \n",
            "    1 2 3 2 1 \n",
            "  1 2 3 4 3 2 1 \n",
            "1 2 3 4 5 4 3 2 1 \n"
          ]
        }
      ]
    }
  ]
}