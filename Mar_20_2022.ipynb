{
  "nbformat": 4,
  "nbformat_minor": 0,
  "metadata": {
    "colab": {
      "name": "Mar_20_2022.ipynb",
      "provenance": [],
      "collapsed_sections": [],
      "authorship_tag": "ABX9TyNlHBw8VzpRS3Kue0+7lnJ7",
      "include_colab_link": true
    },
    "kernelspec": {
      "name": "python3",
      "display_name": "Python 3"
    },
    "language_info": {
      "name": "python"
    }
  },
  "cells": [
    {
      "cell_type": "markdown",
      "metadata": {
        "id": "view-in-github",
        "colab_type": "text"
      },
      "source": [
        "<a href=\"https://colab.research.google.com/github/msayeshasiddikatonny/Consultation_Spring_2022/blob/main/Mar_20_2022.ipynb\" target=\"_parent\"><img src=\"https://colab.research.google.com/assets/colab-badge.svg\" alt=\"Open In Colab\"/></a>"
      ]
    },
    {
      "cell_type": "code",
      "execution_count": null,
      "metadata": {
        "id": "G6_IXiLVzJuC"
      },
      "outputs": [],
      "source": [
        "list=[]\n",
        "for i in range(99999999999999999999999999999999999999999999999999999999999999999999999999999999):\n",
        "    i = input()\n",
        "    i.lower\n",
        "    if i =='exit':\n",
        "        break\n",
        "    list.append(i)\n",
        "print(list)"
      ]
    }
  ]
}