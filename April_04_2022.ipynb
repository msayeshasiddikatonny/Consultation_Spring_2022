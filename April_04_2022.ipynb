{
  "cells": [
    {
      "cell_type": "markdown",
      "metadata": {
        "id": "view-in-github",
        "colab_type": "text"
      },
      "source": [
        "<a href=\"https://colab.research.google.com/github/msayeshasiddikatonny/Consultation_Spring_2022/blob/main/April_04_2022.ipynb\" target=\"_parent\"><img src=\"https://colab.research.google.com/assets/colab-badge.svg\" alt=\"Open In Colab\"/></a>"
      ]
    },
    {
      "cell_type": "code",
      "execution_count": null,
      "metadata": {
        "colab": {
          "base_uri": "https://localhost:8080/"
        },
        "id": "LSa0JpEHj0kg",
        "outputId": "0129d0c0-c723-4a46-ef02-ece09d86acff"
      },
      "outputs": [
        {
          "name": "stdout",
          "output_type": "stream",
          "text": [
            "18 7 25\n",
            "18 7 25\n",
            "44 11 80\n",
            "55 22 157\n"
          ]
        }
      ],
      "source": [
        "class Test:\n",
        "  def __init__(self):\n",
        "    self.sum = 0\n",
        "    self.y = 0\n",
        "\n",
        "  def methodA(self):\n",
        "        x=0\n",
        "        y =0\n",
        "        y = y + 7\n",
        "        x = y + 11\n",
        "        self.sum = x + y\n",
        "        print(x , y, self.sum)\n",
        "\n",
        "  def methodB(self):\n",
        "    x = 0\n",
        "    self.y = self.y + 11\n",
        "    x = x + 33 + self.y\n",
        "    self.sum = self.sum + x + self.y\n",
        "    print(x , self.y, self.sum)\n",
        "  \n",
        "t1 = Test()\n",
        "t1.methodA()\n",
        "t1.methodA()\n",
        "t1.methodB()\n",
        "t1.methodB()"
      ]
    },
    {
      "cell_type": "code",
      "execution_count": null,
      "metadata": {
        "colab": {
          "background_save": true
        },
        "id": "mWjTJgDHlbyW",
        "outputId": "5bb240f3-8a57-4022-afab-1a2d67f0a38b"
      },
      "outputs": [
        {
          "name": "stdout",
          "output_type": "stream",
          "text": [
            "36 3 39\n",
            "9 3 18\n",
            "36 6 60\n",
            "15 6 30\n",
            "36 9 75\n",
            "21 9 42\n",
            "36 12 90\n",
            "27 12 54\n",
            "36 15 105\n",
            "33 15 66\n"
          ]
        }
      ],
      "source": [
        "class Test3:\n",
        "def __init__(self):\n",
        "self.sum, self.y = 0, 0\n",
        "\n",
        "def methodA(self):\n",
        "x, y = 2, 3\n",
        "msg = [0]\n",
        "msg[0] = 3\n",
        "y = self.y + msg[0]\n",
        "self.methodB(msg, msg[0])\n",
        "x = self.y + msg[0]\n",
        "self.sum = x + y + msg[0]\n",
        "print(x, y, self.sum)\n",
        "\n",
        "def methodB(self, mg2, mg1):\n",
        "x = 0\n",
        "self.y = self.y + mg2[0]\n",
        "x = x + 33 + mg1\n",
        "self.sum = self.sum + x + self.y\n",
        "mg2[0] = self.y + mg1\n",
        "mg1 = mg1 + x + 2\n",
        "print(x, self.y, self.sum)"
      ]
    }
  ],
  "metadata": {
    "colab": {
      "name": "April_04_2022.ipynb",
      "provenance": [],
      "collapsed_sections": [],
      "authorship_tag": "ABX9TyNA/aMLeIEYN7Qn4foZBGnz",
      "include_colab_link": true
    },
    "kernelspec": {
      "display_name": "Python 3",
      "name": "python3"
    },
    "language_info": {
      "name": "python"
    }
  },
  "nbformat": 4,
  "nbformat_minor": 0
}