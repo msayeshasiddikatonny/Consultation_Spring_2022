{
  "nbformat": 4,
  "nbformat_minor": 0,
  "metadata": {
    "colab": {
      "name": " April_29_2022.ipynb",
      "provenance": [],
      "collapsed_sections": [],
      "authorship_tag": "ABX9TyMURq2Renxx5+ASEhJP4qsk",
      "include_colab_link": true
    },
    "kernelspec": {
      "name": "python3",
      "display_name": "Python 3"
    },
    "language_info": {
      "name": "python"
    }
  },
  "cells": [
    {
      "cell_type": "markdown",
      "metadata": {
        "id": "view-in-github",
        "colab_type": "text"
      },
      "source": [
        "<a href=\"https://colab.research.google.com/github/msayeshasiddikatonny/Consultation_Spring_2022/blob/main/April_29_2022.ipynb\" target=\"_parent\"><img src=\"https://colab.research.google.com/assets/colab-badge.svg\" alt=\"Open In Colab\"/></a>"
      ]
    },
    {
      "cell_type": "code",
      "execution_count": null,
      "metadata": {
        "colab": {
          "base_uri": "https://localhost:8080/"
        },
        "id": "nr8hNWnyU-MS",
        "outputId": "f07d0f96-0859-43e7-9413-49d10d9a7747"
      },
      "outputs": [
        {
          "output_type": "stream",
          "name": "stdout",
          "text": [
            "3 5 15\n",
            "4 7 18\n",
            "4 10 21\n",
            "6 2 29\n"
          ]
        }
      ],
      "source": [
        "class A:\n",
        "    def __init__(self):\n",
        "        self.temp = 4\n",
        "        self.sum = 1\n",
        "        self.y = 2\n",
        "        self.y = self.temp - 2\n",
        "        self.sum = self.temp + 3\n",
        "        self.temp -= 2\n",
        "    def methodA(self, m,  n):\n",
        "        x = 0\n",
        "        self.y = self.y + m + self.temp\n",
        "        self.temp += 1\n",
        "        x = x + 2 + n\n",
        "        self.sum = self.sum + x + self.y\n",
        "        print(x, self.y, self.sum)\n",
        "        \n",
        "class B(A):\n",
        "    def __init__(self, b=None):\n",
        "        super().__init__()\n",
        "        self.x = 1\n",
        "        self.sum = 2\n",
        "        if b == None:\n",
        "            self.y = self.temp + 3\n",
        "            self.sum = 3 + self.temp + 2\n",
        "            self.temp -= 1\n",
        "        else:\n",
        "            self.sum = b.sum\n",
        "            self.x = b.x\n",
        "    def methodB(self, m,  n):\n",
        "        y = 0\n",
        "        y = y + self.y\n",
        "        self.x = y + 2 + self.temp\n",
        "        self.methodA(self.x, y)\n",
        "        self.sum = self.x + y + self.sum\n",
        "        print(self.x, y, self.sum)\n",
        "\n",
        "a1 = A()\n",
        "b1 = B()\n",
        "b2 = B(b1)\n",
        "a1.methodA(1, 1)\n",
        "b1.methodA(1, 2)\n",
        "b2.methodB(3, 2)\n"
      ]
    },
    {
      "cell_type": "code",
      "source": [
        "class A:\n",
        "    temp = 4\n",
        "    def __init__(self):\n",
        "        self.sum = 0\n",
        "        self.y = 0\n",
        "        self.y = A.temp - 2\n",
        "        self.sum = A.temp + 1\n",
        "        A.temp -= 2\n",
        "    def methodA(self, m,  n):\n",
        "        x = 0\n",
        "        self.y = self.y + m + (A.temp)\n",
        "        A.temp += 1\n",
        "        x = x + 1 + n\n",
        "        self.sum = self.sum + x + self.y\n",
        "        print(x, self.y, self.sum)\n",
        " \n",
        "class B(A):\n",
        "    x = 0\n",
        "    def __init__(self,b=None):\n",
        "        super().__init__()\n",
        "        self.sum = 0\n",
        "        if b==None:\n",
        "            self.y = A.temp + 3\n",
        "            self.sum = 3 + A.temp + 2\n",
        "            A.temp -= 2\n",
        "        else:\n",
        "            self.sum = b.sum\n",
        "            B.x = b.x\n",
        "            b.methodB(2, 3)\n",
        "    def methodB(self, m,  n):\n",
        "        y = 0\n",
        "        y = y + self.y\n",
        "        B.x = self.y + 2 + A.temp\n",
        "        self.methodA(B.x, y)\n",
        "        self.sum = B.x + y + self.sum\n",
        "        print(B.x, y, self.sum)\n",
        "\n",
        "a1 = A()\n",
        "b1 = B()\n",
        "b2 = B(b1)\n",
        "b1.methodA(1, 2)\n",
        "b2.methodB(3, 2)\n",
        "\n",
        "\n",
        "\n",
        "\n",
        "\n",
        "\n",
        "\n"
      ],
      "metadata": {
        "colab": {
          "base_uri": "https://localhost:8080/"
        },
        "id": "VZQ6IrS6hFsY",
        "outputId": "8714946e-257c-4818-d875-6fbffdc487b5"
      },
      "execution_count": null,
      "outputs": [
        {
          "output_type": "stream",
          "name": "stdout",
          "text": [
            "4 0 9\n",
            "1 3 13\n",
            "3 -2 14\n",
            "-3 -10 -8\n",
            "-4 -4 -16\n"
          ]
        }
      ]
    }
  ]
}