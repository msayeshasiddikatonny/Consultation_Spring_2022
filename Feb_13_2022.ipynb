{
  "nbformat": 4,
  "nbformat_minor": 0,
  "metadata": {
    "colab": {
      "name": " Feb_13_2022.ipynb",
      "provenance": [],
      "collapsed_sections": [],
      "authorship_tag": "ABX9TyPMoSfRFQgwyBXPMrdiMXf0",
      "include_colab_link": true
    },
    "kernelspec": {
      "name": "python3",
      "display_name": "Python 3"
    },
    "language_info": {
      "name": "python"
    }
  },
  "cells": [
    {
      "cell_type": "markdown",
      "metadata": {
        "id": "view-in-github",
        "colab_type": "text"
      },
      "source": [
        "<a href=\"https://colab.research.google.com/github/msayeshasiddikatonny/Consultation_Spring_2022/blob/main/Feb_13_2022.ipynb\" target=\"_parent\"><img src=\"https://colab.research.google.com/assets/colab-badge.svg\" alt=\"Open In Colab\"/></a>"
      ]
    },
    {
      "cell_type": "code",
      "execution_count": null,
      "metadata": {
        "colab": {
          "base_uri": "https://localhost:8080/"
        },
        "id": "EW4l1T4JUDq3",
        "outputId": "abb64095-9ab2-42da-8ea7-cad85ed0a737"
      },
      "outputs": [
        {
          "output_type": "stream",
          "name": "stdout",
          "text": [
            "Enter user: he\n",
            "4433"
          ]
        }
      ],
      "source": [
        "dic = {'1':'.,?!','2':'ABC','3':'DEF','4':'GHI','5':'JKL','6':'MNO','7':'PQRS','8':'TUV','9':'WXYZ','0':' '}\n",
        "\n",
        "user = input(\"Enter user: \").upper()\n",
        "\n",
        "for char in user: \n",
        "\n",
        "    for key, val in dic.items():\n",
        "        if  char in val :\n",
        "            print(key*(val .index(char)+1), end=\"\")"
      ]
    },
    {
      "cell_type": "code",
      "source": [
        "def Chillox(x1, x2=\"Mohakhali\"):\n",
        "    sum1=0\n",
        "    dict1={\"BBQ Chicken Cheese Burger\":250, \"Beef Burger\":170, \"Naga Drums\":200}\n",
        "    sum1=(dict1[x1]*8/100)+dict1[x1]\n",
        "    print(sum1)\n",
        "    if x2 == \"Mohakhali\":\n",
        "        \n",
        "        return sum1+40\n",
        "    else:\n",
        "         \n",
        "        return sum1+60\n",
        "inp_1= input(\"enter the meal name:\")\n",
        "inp_2= input(\"enter the place name:\")\n",
        "print(Chillox(inp_1,inp_2))"
      ],
      "metadata": {
        "colab": {
          "base_uri": "https://localhost:8080/"
        },
        "id": "j93QFHc6Yo7Y",
        "outputId": "78b0fbec-ccd3-409a-e1dd-5dff910deb64"
      },
      "execution_count": null,
      "outputs": [
        {
          "output_type": "stream",
          "name": "stdout",
          "text": [
            "enter the meal name:Beef Burger\n",
            "enter the place name:\n",
            "183.6\n",
            "243.6\n"
          ]
        }
      ]
    },
    {
      "cell_type": "code",
      "source": [
        "def Chillox(x1, x2=\"Mohakhali\"):\n",
        "    sum1=0\n",
        "    dict1={\"BBQ Chicken Cheese Burger\":250, \"Beef Burger\":170, \"Naga Drums\":200}\n",
        "    if x2 != \"Mohakhali\":\n",
        "        sum1+=dict1[x1]\n",
        "        add_sum= 60+((8*sum1)/100)\n",
        "        return sum1+add_sum\n",
        "    else:\n",
        "        sum1+=dict1[x1]\n",
        "        add_sum= 40+((8*sum1)/100)\n",
        "        return sum1+add_sum\n",
        "inp_1= input(\"enter the meal name:\")\n",
        "inp_2= input(\"enter the place name:\")\n",
        "if inp_2!='':\n",
        "  print(Chillox(inp_1,inp_2))\n",
        "else:\n",
        "  print(Chillox(inp_1 ))"
      ],
      "metadata": {
        "colab": {
          "base_uri": "https://localhost:8080/"
        },
        "id": "HZcBDCFhbsWB",
        "outputId": "8406454a-6c91-44ef-99ea-611a044aafff"
      },
      "execution_count": null,
      "outputs": [
        {
          "output_type": "stream",
          "name": "stdout",
          "text": [
            "enter the meal name:Beef Burger\n",
            "enter the place name:\n",
            "223.6\n"
          ]
        }
      ]
    }
  ]
}