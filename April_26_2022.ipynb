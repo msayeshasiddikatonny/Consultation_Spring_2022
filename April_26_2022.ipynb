{
  "nbformat": 4,
  "nbformat_minor": 0,
  "metadata": {
    "colab": {
      "name": "April_26_2022.ipynb",
      "provenance": [],
      "collapsed_sections": [],
      "authorship_tag": "ABX9TyOPNuu0dv6w7lwhcRb4mAnd",
      "include_colab_link": true
    },
    "kernelspec": {
      "name": "python3",
      "display_name": "Python 3"
    },
    "language_info": {
      "name": "python"
    }
  },
  "cells": [
    {
      "cell_type": "markdown",
      "metadata": {
        "id": "view-in-github",
        "colab_type": "text"
      },
      "source": [
        "<a href=\"https://colab.research.google.com/github/msayeshasiddikatonny/Consultation_Spring_2022/blob/main/April_26_2022.ipynb\" target=\"_parent\"><img src=\"https://colab.research.google.com/assets/colab-badge.svg\" alt=\"Open In Colab\"/></a>"
      ]
    },
    {
      "cell_type": "code",
      "execution_count": null,
      "metadata": {
        "colab": {
          "base_uri": "https://localhost:8080/"
        },
        "id": "6ZqfOsBKjq11",
        "outputId": "1399a0df-4a6a-4a5b-f815-459caf23cbae"
      },
      "outputs": [
        {
          "output_type": "stream",
          "name": "stdout",
          "text": [
            "Minimum distance = 1.4142135623730951\n",
            "Here the closest point is (1, 1) which has a distance of 1.4142135623730951 from the origin\n"
          ]
        }
      ],
      "source": [
        "l = [(1,7), (4,5), (-1,7), (-2,0), (1,1), (5,-1)]\n",
        "ans = []\n",
        "#print(l)\n",
        "for i in range(len(l)):\n",
        "    ans.append((l[i][0]**2 + l[i][1]**2)**0.5)\n",
        "#print(ans)\n",
        "for i in range(0,len(ans)):\n",
        "    mn = ans[i]\n",
        "    mnx = i\n",
        "    for j in range(i+1,len(ans)):\n",
        "        if ans[j]<  mn:\n",
        "            mn = ans[j]\n",
        "            mnx = j\n",
        "    #print(mnx,'index')\n",
        "    l[i],l[mnx] = l[mnx],l[i]\n",
        "    ans[i],ans[mnx] = ans[mnx],ans[i]\n",
        "#print(l)\n",
        "#print(ans)\n",
        "print(\"Minimum distance =\",ans[0])\n",
        "print(\"Here the closest point is {} which has a distance of {} from the origin\".format(l[0],ans[0]))"
      ]
    },
    {
      "cell_type": "code",
      "source": [
        "lst= []\n",
        "#list_one =  input()\n",
        "\n",
        "list_one = [1, 7, 9, 10]\n",
        "list_two = [2, 7, 6, 5]\n",
        "#list2 = list_two[1:-1].split(\" ,\")\n",
        "#print(list_one)\n",
        "#print(list_two)\n",
        "for i in list_one:\n",
        "     print(i)\n",
        "     lst.append(int(i))\n",
        "    \n",
        "for i in list_two:\n",
        "     lst.append(int(i))     \n",
        "print(lst)\n",
        "l=sorted(lst)\n",
        "print(l)\n",
        "if len(l)%2==0:\n",
        "   print((l[len(l)//2]+l[len(l)//2-1])/2)\n",
        "   #print('if')\n",
        "else:\n",
        "  print(l[len(l)//2+1])"
      ],
      "metadata": {
        "colab": {
          "base_uri": "https://localhost:8080/"
        },
        "id": "pksrSu36on1s",
        "outputId": "8070339e-7e25-4cb2-8fa8-f80e35dbf7a4"
      },
      "execution_count": null,
      "outputs": [
        {
          "output_type": "stream",
          "name": "stdout",
          "text": [
            "[1, 7, 9, 10]\n",
            "[2, 7, 6, 5]\n",
            "1\n",
            "7\n",
            "9\n",
            "10\n",
            "[1, 7, 9, 10, 2, 7, 6, 5]\n",
            "[1, 2, 5, 6, 7, 7, 9, 10]\n",
            "6.5\n"
          ]
        }
      ]
    }
  ]
}