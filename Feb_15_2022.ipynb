{
  "nbformat": 4,
  "nbformat_minor": 0,
  "metadata": {
    "colab": {
      "name": " Feb_15_2022.ipynb",
      "provenance": [],
      "collapsed_sections": [],
      "authorship_tag": "ABX9TyOwtN6nbBqwp0oyl7DGi3iy",
      "include_colab_link": true
    },
    "kernelspec": {
      "name": "python3",
      "display_name": "Python 3"
    },
    "language_info": {
      "name": "python"
    }
  },
  "cells": [
    {
      "cell_type": "markdown",
      "metadata": {
        "id": "view-in-github",
        "colab_type": "text"
      },
      "source": [
        "<a href=\"https://colab.research.google.com/github/msayeshasiddikatonny/Consultation_Spring_2022/blob/main/Feb_15_2022.ipynb\" target=\"_parent\"><img src=\"https://colab.research.google.com/assets/colab-badge.svg\" alt=\"Open In Colab\"/></a>"
      ]
    },
    {
      "cell_type": "code",
      "execution_count": null,
      "metadata": {
        "colab": {
          "base_uri": "https://localhost:8080/"
        },
        "id": "o4OT6gQEBv7f",
        "outputId": "6499caae-dd93-411f-a98d-6f1cd8fc0e5d"
      },
      "outputs": [
        {
          "output_type": "stream",
          "name": "stdout",
          "text": [
            "enter your wordhe\n",
            "44\n",
            "33\n"
          ]
        }
      ],
      "source": [
        "d={1:['.',',','?','!',':'], 2:['A','B','C'],3:['D','E','F'],4:['G','H','I'],5:['J','K','L'],6:['M','N','O'],7:['P','Q','R','S'],8:['T','U','V'],9:['W','X','Y','Z'],0:[' ']}\n",
        "a=input('enter your word')\n",
        "a=a.upper()\n",
        "for i in range(len(a)):\n",
        "  for j,k in d.items():\n",
        "    if a[i] in k:\n",
        "      print(str(j)*(k.index(a[i])+1))"
      ]
    },
    {
      "cell_type": "code",
      "source": [
        "dict1={\"1\":[\".\",\",\",\"?\",\"!\",\":\"], \"2\":[\"A\",\"B\",\"C\"], \"3\":[\"D\",\"E\",\"F\"], \"4\":[\"G\",\"H\",\"I\"], \"5\":[\"J\",\"K\",\"L\"], \"6\":[\"M\",\"N\",\"O\"], \"7\":[\"P\",\"Q\",\"R\",\"S\"], \"8\":[\"T\",\"U\",\"V\"], \"9\":[\"W\",\"X\",\"Y\",\"Z\"], \"0\":[\" \"]}\n",
        "user =input().upper()\n",
        "for i in range(len(user)):\n",
        "    \n",
        "    for key, value in dict1.items():\n",
        "        \n",
        "        if user[i] in value:\n",
        "            print(key*(value.index(user[i])+1), end=\"\")"
      ],
      "metadata": {
        "id": "8cKqum3eBzPT"
      },
      "execution_count": null,
      "outputs": []
    },
    {
      "cell_type": "markdown",
      "source": [
        "chcv chofid"
      ],
      "metadata": {
        "id": "7cuRx1VWEceD"
      }
    },
    {
      "cell_type": "code",
      "source": [
        "n_lst = int(input(\"Enter number of lists, N: \")) \n",
        "l = []\n",
        "lst = []\n",
        "l1=[]\n",
        "s=0\n",
        "for i in range(0,n_lst):\n",
        "  l = [int(elem) for elem in input(\"enter list: \").split()]\n",
        "  sum_lst = sum(l)\n",
        "  lst.append(sum_lst) \n",
        "  if sum_lst>s:\n",
        "      s=sum_lst\n",
        "      l1=l\n",
        "  if i+1 == n_lst:\n",
        "    ma_x = max(lst)\n",
        "    print(ma_x)\n",
        "    print(l1)"
      ],
      "metadata": {
        "colab": {
          "base_uri": "https://localhost:8080/"
        },
        "id": "qyXLeXxqIME9",
        "outputId": "943ec724-b9e3-4a83-f3a7-33c90b43bbbf"
      },
      "execution_count": null,
      "outputs": [
        {
          "output_type": "stream",
          "name": "stdout",
          "text": [
            "Enter number of lists, N: 4\n",
            "enter list: 10 11 12\n",
            "enter list: 1 2 3\n",
            "enter list: 4 5 6\n",
            "enter list: 7 8 9\n",
            "33\n",
            "[10, 11, 12]\n"
          ]
        }
      ]
    },
    {
      "cell_type": "code",
      "source": [
        "x={a: 100, b: 100, c: 200, d: 300}\n",
        "y={a: 300, b: 200, d: 400, e: 200}\n",
        "dic={}\n",
        "for k in x:\n",
        "  for k2 in y:\n",
        "    if k==k2:"
      ],
      "metadata": {
        "id": "5lLxZl0LLzYB"
      },
      "execution_count": null,
      "outputs": []
    },
    {
      "cell_type": "code",
      "source": [
        "n=input('enter d')\n",
        "#print(n)\n",
        "n=n.split(', ')\n",
        "#print(n)\n",
        "d1={}\n",
        "p=input('enter d')\n",
        "#print(n)\n",
        "p=p.split(', ')\n",
        "#print(n)\n",
        "d2={}\n",
        "for i in n:\n",
        "  x,y=i.split(': ')#x='a' y='100'\n",
        "  d1[x]=int(y)\n",
        "for i in p:\n",
        "  x,y=i.split(': ')#x='a' y='100'\n",
        "  d2[x]=int(y)\n",
        "\n",
        " \n",
        "for k2 in d2:\n",
        "    if k2 in d1:\n",
        "      d1[k2]+=d2[k2]\n",
        "    else:\n",
        "      d1[k2]=d2[k2]\n",
        "print(d1)   \n"
      ],
      "metadata": {
        "colab": {
          "base_uri": "https://localhost:8080/"
        },
        "id": "4pwOWe6UL1Z0",
        "outputId": "8602c133-bc48-4f33-df88-c7c6004e0704"
      },
      "execution_count": null,
      "outputs": [
        {
          "output_type": "stream",
          "name": "stdout",
          "text": [
            "enter da: 100, b: 100, c: 200, d: 300\n",
            "enter da: 300, b: 200, d: 400, e: 200\n",
            "{'a': 400, 'b': 300, 'c': 200, 'd': 700, 'e': 200}\n"
          ]
        }
      ]
    },
    {
      "cell_type": "code",
      "source": [
        "password=input(\"Enter your password: \")\n",
        "upper=\"ABCDEFGHIJKLMNOPQRSTUVWXYZ\"\n",
        "lower=\"abcdefghijklmnopqrstuvwxyz\"\n",
        "num=\"1234567890\"\n",
        "char=\"_$#@\"\n",
        "u_chk= False\n",
        "l_chk= False\n",
        "n_chk= False\n",
        "c_chk= False\n",
        " \n",
        "\n",
        "\n",
        "for i in password:\n",
        "    if i in upper:\n",
        "        u_chk= True\n",
        "    elif i in lower:\n",
        "        l_chk= True\n",
        "    elif i in num:\n",
        "        n_chk= True\n",
        "    elif i in char:\n",
        "        c_chk= True\n",
        "s=''\n",
        "if u_chk!= True:\n",
        "  s+=\"Uppercase character missing,\" \n",
        "if l_chk== False:\n",
        "  s+=\"Lowercase character missing,\"\n",
        "if n_chk== False:\n",
        "  s+=\"Digit missing,\"\n",
        "if c_chk== False:\n",
        "    s+=\"Special character missing,\"\n",
        "if s=='' :\n",
        "  print('ok')\n",
        "else:\n",
        "  print(s[0:-1])"
      ],
      "metadata": {
        "colab": {
          "base_uri": "https://localhost:8080/"
        },
        "id": "khRWv65IQ7BG",
        "outputId": "c8b3889a-d917-4b5c-c175-b3169a4afd4a"
      },
      "execution_count": null,
      "outputs": [
        {
          "output_type": "stream",
          "name": "stdout",
          "text": [
            "Enter your password: $@\n",
            "Uppercase character missing,Lowercase character missing,Digit missing\n"
          ]
        }
      ]
    },
    {
      "cell_type": "code",
      "source": [
        "#variable t\n",
        "t = int(input(\"Enter the nummber:\"))\n",
        "if t<0 and t>23:\n",
        "     print(\"Wrong time\")\n",
        " \n",
        "elif t>3 and t<=6:\n",
        "    print(\"Breakfast\")\n",
        "elif t>11 and t<=13:\n",
        "    print(\"Lunch\")\n",
        "elif t>15 and t<=17:\n",
        "    print(\"snacks\")\n",
        "elif t>18 and t<=20:\n",
        "    print(\"Dinner\")\n",
        "else:\n",
        "    print(\"Patience is a virtue\")"
      ],
      "metadata": {
        "colab": {
          "base_uri": "https://localhost:8080/"
        },
        "id": "LxWVgQwXU16_",
        "outputId": "3ba9cb31-b7f5-4b4e-99e0-c32f874fbadf"
      },
      "execution_count": null,
      "outputs": [
        {
          "output_type": "stream",
          "name": "stdout",
          "text": [
            "Enter the nummber:18\n",
            "Patience is a virtue\n"
          ]
        }
      ]
    }
  ]
}