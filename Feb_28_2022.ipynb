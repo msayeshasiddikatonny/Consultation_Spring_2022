{
  "nbformat": 4,
  "nbformat_minor": 0,
  "metadata": {
    "colab": {
      "name": "Feb_28_2022.ipynb",
      "provenance": [],
      "collapsed_sections": [],
      "authorship_tag": "ABX9TyNJgvE78NHnEUG7kBJY0N0Y",
      "include_colab_link": true
    },
    "kernelspec": {
      "name": "python3",
      "display_name": "Python 3"
    },
    "language_info": {
      "name": "python"
    }
  },
  "cells": [
    {
      "cell_type": "markdown",
      "metadata": {
        "id": "view-in-github",
        "colab_type": "text"
      },
      "source": [
        "<a href=\"https://colab.research.google.com/github/msayeshasiddikatonny/Consultation_Spring_2022/blob/main/Feb_28_2022.ipynb\" target=\"_parent\"><img src=\"https://colab.research.google.com/assets/colab-badge.svg\" alt=\"Open In Colab\"/></a>"
      ]
    },
    {
      "cell_type": "code",
      "execution_count": null,
      "metadata": {
        "colab": {
          "base_uri": "https://localhost:8080/"
        },
        "id": "83jFbWL2V7EG",
        "outputId": "09e3ff35-695f-43b8-bb64-65361feab385"
      },
      "outputs": [
        {
          "output_type": "stream",
          "name": "stdout",
          "text": [
            "Enter a number:321\n",
            "3,2,1,"
          ]
        }
      ],
      "source": [
        "import math\n",
        "num=int(input(\"Enter a number:\"))#312\n",
        "count=0\n",
        "num2=num\n",
        "while num2>0:\n",
        "    num2=num2//10#\n",
        "    count+=1\n",
        "power=math.pow(10,count-1)\n",
        "while num>0:\n",
        "    \n",
        "    num2=int(num//power)\n",
        "    print(num2,end=',')\n",
        "    num=num%power\n",
        "    power=power//10"
      ]
    },
    {
      "cell_type": "code",
      "source": [
        "'''\n",
        "Researchers found out that Zombies only count using odd numbers. So the \n",
        "Traveling Ticket Examiner of the “Train to Busan” planned to ask the \n",
        "passengers for an even number each to allow them to get into the train.\n",
        "If anyone fails to give even inputs he will be sent to quarantine.\n",
        "You need to write a python program that will calculate the percentage of \n",
        "potential zombies trying to get into that train. Take inputs through a loop \n",
        "until the input “End”\n",
        "\n",
        "Sample Input 1:\n",
        "13\n",
        "12\n",
        "15\n",
        "17\n",
        "18\n",
        "End\n",
        "\n",
        "Sample Output 1:\n",
        "60 percent Zombies\n",
        "\n",
        "Explanation 1:\n",
        "Out of the 5 inputs, 3 of them are odd. So there are 3 zombies. That means, \n",
        "the percentage of zombies is (3/5)100% = 60%\n",
        "\n",
        "Sample Input 2:\n",
        "14\n",
        "16\n",
        "18\n",
        "24\n",
        "28\n",
        "52\n",
        "End\n",
        "\n",
        "Sample Output 2:\n",
        "0 percent Zombies\n",
        "\n",
        "Explanation 2:\n",
        "Out of the 6 inputs, none of them are odd. So there are no zombies. That \n",
        "means, the percentage of zombies is (0/6)100% = 0%\n",
        "'''"
      ],
      "metadata": {
        "id": "hp5YZFGpkNaC"
      },
      "execution_count": null,
      "outputs": []
    },
    {
      "cell_type": "code",
      "source": [
        "num=0\n",
        "odd=0\n",
        "while True:\n",
        "  n=input()\n",
        "  if n=='End':\n",
        "    break\n",
        "  else:\n",
        "    n=int(n)\n",
        "    num+=1\n",
        "    if n%2!=0:\n",
        "      odd+=1\n",
        "z=(odd/num)*100\n",
        "z=int(z)\n",
        "\n",
        "print(z,'percent Zombies')\n"
      ],
      "metadata": {
        "colab": {
          "base_uri": "https://localhost:8080/"
        },
        "id": "UuzwIUlVkPr_",
        "outputId": "5cdbfb93-6dcc-486e-d296-cd44cc093076"
      },
      "execution_count": null,
      "outputs": [
        {
          "output_type": "stream",
          "name": "stdout",
          "text": [
            "13\n",
            "12\n",
            "15\n",
            "17\n",
            "18\n",
            "End\n",
            "60 percent Zombies\n"
          ]
        }
      ]
    }
  ]
}