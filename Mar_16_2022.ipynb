{
  "nbformat": 4,
  "nbformat_minor": 0,
  "metadata": {
    "colab": {
      "name": "Mar_16_2022.ipynb",
      "provenance": [],
      "collapsed_sections": [],
      "authorship_tag": "ABX9TyPPrT7AXmvhijSaCaZFwN0Q",
      "include_colab_link": true
    },
    "kernelspec": {
      "name": "python3",
      "display_name": "Python 3"
    },
    "language_info": {
      "name": "python"
    }
  },
  "cells": [
    {
      "cell_type": "markdown",
      "metadata": {
        "id": "view-in-github",
        "colab_type": "text"
      },
      "source": [
        "<a href=\"https://colab.research.google.com/github/msayeshasiddikatonny/Consultation_Spring_2022/blob/main/Mar_16_2022.ipynb\" target=\"_parent\"><img src=\"https://colab.research.google.com/assets/colab-badge.svg\" alt=\"Open In Colab\"/></a>"
      ]
    },
    {
      "cell_type": "code",
      "execution_count": null,
      "metadata": {
        "colab": {
          "base_uri": "https://localhost:8080/",
          "height": 164
        },
        "id": "FC4qsmYA2ywP",
        "outputId": "388d2ead-367c-43d3-ce74-4fdf383b1637"
      },
      "outputs": [
        {
          "output_type": "stream",
          "name": "stdout",
          "text": [
            "5\n",
            "its@gmail.com1\n",
            "mike13445@yahoomail9.server\n",
            "rase23@ha_ch.com\n",
            "daniyal@gmail.coma\n",
            "thatisit@thatisit\n",
            "[]\n"
          ]
        },
        {
          "output_type": "execute_result",
          "data": {
            "text/plain": [
              "'\\n5\\nits@gmail.com1\\nmike13445@yahoomail9.server\\nrase23@ha_ch.com\\ndaniyal@gmail.coma\\nthatisit@thatisit\\n'"
            ],
            "application/vnd.google.colaboratory.intrinsic+json": {
              "type": "string"
            }
          },
          "metadata": {},
          "execution_count": 4
        }
      ],
      "source": [
        "def fun(s):\n",
        "    # return True if s is a valid email, else return False\n",
        "    u=''\n",
        "    w=''\n",
        "    e=''\n",
        "    f=0\n",
        "    for i in s:\n",
        "        if i!='@':\n",
        "            u+=i\n",
        "            f+=1\n",
        "        else:\n",
        "            break\n",
        "    #print(u)\n",
        "    for i in range(f+1,len(s)):\n",
        "        if s[i]!='.':\n",
        "            w+=s[i]\n",
        "            f+=1\n",
        "        else:\n",
        "            f+=1\n",
        "            break\n",
        "    #print(w)\n",
        "    for i in range(f+1,len(s)):\n",
        "        e+=s[i]\n",
        "    #print(e)\n",
        "    if u==\"\" or w=='' or e=='':\n",
        "        return False\n",
        "    for i in e:\n",
        "        if i.isalpha() or i=='.':\n",
        "            pass\n",
        "        else:\n",
        "            return False\n",
        "        \n",
        "    e=e.split('.')\n",
        "    if len(e)>3 or e[len(e)-1]!='com':\n",
        "        return False\n",
        "    for i in w:\n",
        "        if w.isalpha() or w.isnumeric():\n",
        "            pass\n",
        "        else:\n",
        "            return False\n",
        "    \n",
        "    for i in u:\n",
        "        if i.isalpha() or i.isnumeric() or i in \"_-\":\n",
        "            pass\n",
        "        else:\n",
        "            return False  \n",
        "    return True\n",
        "def filter_mail(emails):\n",
        "    return list(filter(fun, emails))\n",
        "\n",
        "if __name__ == '__main__':\n",
        "    n = int(input())\n",
        "    emails = []\n",
        "    for _ in range(n):\n",
        "        emails.append(input())\n",
        "\n",
        "filtered_emails = filter_mail(emails)\n",
        "filtered_emails.sort()\n",
        "print(filtered_emails)\n",
        "'''\n",
        "5\n",
        "its@gmail.com1\n",
        "mike13445@yahoomail9.server\n",
        "rase23@ha_ch.com\n",
        "daniyal@gmail.coma\n",
        "thatisit@thatisit\n",
        "'''"
      ]
    }
  ]
}