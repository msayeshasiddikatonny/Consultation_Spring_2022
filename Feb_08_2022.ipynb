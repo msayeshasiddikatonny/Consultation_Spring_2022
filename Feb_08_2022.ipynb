{
  "nbformat": 4,
  "nbformat_minor": 0,
  "metadata": {
    "colab": {
      "name": "Feb_08_2022.ipynb",
      "provenance": [],
      "collapsed_sections": [],
      "authorship_tag": "ABX9TyOWN1fpY2GHdS+4hR6Ddr3T",
      "include_colab_link": true
    },
    "kernelspec": {
      "name": "python3",
      "display_name": "Python 3"
    },
    "language_info": {
      "name": "python"
    }
  },
  "cells": [
    {
      "cell_type": "markdown",
      "metadata": {
        "id": "view-in-github",
        "colab_type": "text"
      },
      "source": [
        "<a href=\"https://colab.research.google.com/github/msayeshasiddikatonny/Consultation_Spring_2022/blob/main/Feb_08_2022.ipynb\" target=\"_parent\"><img src=\"https://colab.research.google.com/assets/colab-badge.svg\" alt=\"Open In Colab\"/></a>"
      ]
    },
    {
      "cell_type": "code",
      "execution_count": null,
      "metadata": {
        "colab": {
          "base_uri": "https://localhost:8080/"
        },
        "id": "hsc6OiYyGT-s",
        "outputId": "1095d563-90ac-41f5-9fa8-b946957f19ee"
      },
      "outputs": [
        {
          "output_type": "stream",
          "name": "stdout",
          "text": [
            "[12, 23, 32]\n",
            "(12, 23, 32)\n",
            "[100, 23, 32]\n",
            "(100, 23, 32)\n"
          ]
        }
      ],
      "source": [
        "l=[12,23,32]\n",
        "t=(12,23,32)\n",
        "print(l)\n",
        "print(t)\n",
        "l[0]=100\n",
        "print(l)\n",
        "l=tuple(l)\n",
        "print(l)\n"
      ]
    },
    {
      "cell_type": "code",
      "source": [
        "thisdict =\t{\"brand\": \"Ford\",\"model\": \"Mustang\",\"year\": [1964,456]}#key:value\n",
        "print(thisdict)"
      ],
      "metadata": {
        "colab": {
          "base_uri": "https://localhost:8080/"
        },
        "id": "BQHeavV7Hy0W",
        "outputId": "e5cbbdc7-a000-4ca3-eac1-e0b4e5b85853"
      },
      "execution_count": null,
      "outputs": [
        {
          "output_type": "stream",
          "name": "stdout",
          "text": [
            "{'brand': 'Ford', 'model': 'Mustang', 'year': [1964, 456]}\n"
          ]
        }
      ]
    },
    {
      "cell_type": "code",
      "source": [
        "thisdict =\t{\"brand\": \"Ford\",\"model\": \"Mustang\",\"year\": [1964,456]}\n",
        "thisdict[\"year\"][0]=2022\n",
        "print(thisdict[\"year\"] )"
      ],
      "metadata": {
        "colab": {
          "base_uri": "https://localhost:8080/"
        },
        "id": "7qhZErq9IqQR",
        "outputId": "db7d1d08-7b5b-4491-b469-84c1d81fd304"
      },
      "execution_count": null,
      "outputs": [
        {
          "output_type": "stream",
          "name": "stdout",
          "text": [
            "[2022, 456]\n"
          ]
        }
      ]
    },
    {
      "cell_type": "code",
      "source": [
        "thisdict = {\n",
        "  \"brand\": \"Ford\",\n",
        "  \"model\": \"Mustang\",\n",
        "  \"year\": 1964,\n",
        "  \"year\": 2020,\"year\": 202020\n",
        "}\n",
        "print(thisdict)"
      ],
      "metadata": {
        "colab": {
          "base_uri": "https://localhost:8080/"
        },
        "id": "Asr3itdAJjhs",
        "outputId": "a4b2b589-42d4-4cce-80c6-df9b372bea57"
      },
      "execution_count": null,
      "outputs": [
        {
          "output_type": "stream",
          "name": "stdout",
          "text": [
            "{'brand': 'Ford', 'model': 'Mustang', 'year': 202020}\n"
          ]
        }
      ]
    }
  ]
}